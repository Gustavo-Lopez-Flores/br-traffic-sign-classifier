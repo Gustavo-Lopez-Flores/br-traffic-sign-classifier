{
  "nbformat": 4,
  "nbformat_minor": 0,
  "metadata": {
    "colab": {
      "provenance": []
    },
    "kernelspec": {
      "name": "python3",
      "display_name": "Python 3"
    },
    "language_info": {
      "name": "python"
    }
  },
  "cells": [
    {
      "cell_type": "code",
      "source": [
        "from google.colab import drive\n",
        "drive.mount('/content/drive')\n",
        "\n",
        "BASE = '/content/drive/MyDrive/br-traffic-sign-classifier/'\n",
        "DS = BASE + 'dataset/'\n",
        "DS_SPLIT = BASE + 'dataset_split/'"
      ],
      "metadata": {
        "id": "f_chiEbMj3w4"
      },
      "execution_count": null,
      "outputs": []
    }
  ]
}