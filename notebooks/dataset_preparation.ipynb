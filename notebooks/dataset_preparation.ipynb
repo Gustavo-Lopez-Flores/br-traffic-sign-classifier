{
  "nbformat": 4,
  "nbformat_minor": 0,
  "metadata": {
    "colab": {
      "provenance": []
    },
    "kernelspec": {
      "name": "python3",
      "display_name": "Python 3"
    },
    "language_info": {
      "name": "python"
    }
  },
  "cells": [
    {
      "cell_type": "code",
      "source": [
        "from google.colab import drive\n",
        "drive.mount('/content/drive')\n",
        "\n",
        "BASE = '/content/drive/MyDrive/br-traffic-sign-classifier/'\n",
        "DS = BASE + 'dataset/'\n",
        "DS_SPLIT = BASE + 'dataset_split/'"
      ],
      "metadata": {
        "colab": {
          "base_uri": "https://localhost:8080/"
        },
        "id": "f_chiEbMj3w4",
        "outputId": "9e28ff65-847a-4a49-f643-60a2c72d6fbe"
      },
      "execution_count": 1,
      "outputs": [
        {
          "output_type": "stream",
          "name": "stdout",
          "text": [
            "Mounted at /content/drive\n"
          ]
        }
      ]
    },
    {
      "cell_type": "code",
      "source": [
        "import os\n",
        "import shutil\n",
        "import random"
      ],
      "metadata": {
        "id": "DgOVHavtpy9Z"
      },
      "execution_count": 2,
      "outputs": []
    },
    {
      "cell_type": "code",
      "source": [
        "def split_dataset(source_dir, dest_dir, train_ratio=0.6, val_ratio=0.2):\n",
        "    random.seed(42)\n",
        "    for label in os.listdir(source_dir):\n",
        "        src_path = os.path.join(source_dir, label)\n",
        "        if not os.path.isdir(src_path): continue\n",
        "        files = [f for f in os.listdir(src_path) if os.path.isfile(os.path.join(src_path, f))]\n",
        "        random.shuffle(files)\n",
        "        n_total = len(files)\n",
        "        n_train = int(n_total * train_ratio)\n",
        "        n_val = int(n_total * val_ratio)\n",
        "        subsets = {\n",
        "            'train': files[:n_train],\n",
        "            'val': files[n_train:n_train + n_val],\n",
        "            'test': files[n_train + n_val:]\n",
        "        }\n",
        "        for subset, imgs in subsets.items():\n",
        "            subset_dir = os.path.join(dest_dir, subset, label)\n",
        "            os.makedirs(subset_dir, exist_ok=True)\n",
        "            for img in imgs:\n",
        "                shutil.copy2(os.path.join(src_path, img), os.path.join(subset_dir, img))\n",
        "    print('Divisão concluída!')\n"
      ],
      "metadata": {
        "id": "0nO1n-u6qsZe"
      },
      "execution_count": 3,
      "outputs": []
    },
    {
      "cell_type": "code",
      "source": [
        "split_dataset(DS, DS_SPLIT)"
      ],
      "metadata": {
        "colab": {
          "base_uri": "https://localhost:8080/"
        },
        "id": "wuKSvWMLrFk9",
        "outputId": "0fc93830-03d9-4868-8662-47301dbc79a7"
      },
      "execution_count": 4,
      "outputs": [
        {
          "output_type": "stream",
          "name": "stdout",
          "text": [
            "Divisão concluída!\n"
          ]
        }
      ]
    },
    {
      "cell_type": "code",
      "source": [
        "for subset in ['train', 'val', 'test']:\n",
        "    print(f\"\\n{subset.upper()}:\")\n",
        "    subset_path = os.path.join(DS_SPLIT, subset)\n",
        "    for label in os.listdir(subset_path):\n",
        "        n_files = len(os.listdir(os.path.join(subset_path, label)))\n",
        "        print(f\"  {label}: {n_files}\")"
      ],
      "metadata": {
        "id": "WTH84cdory0l",
        "outputId": "4503e113-7923-41f3-e1e9-367ca2b508f7",
        "colab": {
          "base_uri": "https://localhost:8080/"
        }
      },
      "execution_count": 5,
      "outputs": [
        {
          "output_type": "stream",
          "name": "stdout",
          "text": [
            "\n",
            "TRAIN:\n",
            "  stop: 36\n",
            "  speed limit: 42\n",
            "  bump: 36\n",
            "  pedestrian crossing: 36\n",
            "  no parking: 36\n",
            "\n",
            "VAL:\n",
            "  stop: 12\n",
            "  speed limit: 14\n",
            "  bump: 12\n",
            "  pedestrian crossing: 12\n",
            "  no parking: 12\n",
            "\n",
            "TEST:\n",
            "  stop: 12\n",
            "  speed limit: 14\n",
            "  bump: 12\n",
            "  pedestrian crossing: 12\n",
            "  no parking: 12\n"
          ]
        }
      ]
    }
  ]
}